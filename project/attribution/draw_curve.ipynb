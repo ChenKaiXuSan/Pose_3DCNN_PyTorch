{
 "cells": [
  {
   "cell_type": "code",
   "execution_count": 7,
   "metadata": {},
   "outputs": [
    {
     "name": "stderr",
     "output_type": "stream",
     "text": [
      "Global seed set to 42\n"
     ]
    }
   ],
   "source": [
    "os.environ[\"CUDA_VISIBLE_DEVICES\"] = \"1\"\n",
    "\n",
    "import torch \n",
    "import os \n",
    "\n",
    "%cd /workspace/Pose_3DCNN_PyTorch/project\n",
    "\n",
    "from models.pytorchvideo_models import WalkVideoClassificationLightningModule\n",
    "from dataloader.data_loader import WalkDataModule\n",
    "\n",
    "from pytorch_lightning import Trainer\n",
    "\n",
    "from IPython.display import clear_output\n",
    "\n",
    "clear_output()\n",
    "\n",
    "from pytorch_lightning import seed_everything\n",
    "\n",
    "seed_everything(42, workers=True)\n",
    "\n",
    "import torchmetrics\n",
    "\n"
   ]
  },
  {
   "cell_type": "code",
   "execution_count": 8,
   "metadata": {},
   "outputs": [],
   "source": [
    "# define the metrics.\n",
    "_accuracy = torchmetrics.classification.BinaryAccuracy()\n",
    "_precision = torchmetrics.classification.BinaryPrecision()\n",
    "_binary_recall = torchmetrics.classification.BinaryRecall()\n",
    "_binary_f1 = torchmetrics.classification.BinaryF1Score()\n",
    "\n",
    "_confusion_matrix = torchmetrics.classification.BinaryConfusionMatrix()\n",
    "\n",
    "_aucroc = torchmetrics.classification.BinaryAUROC()"
   ]
  },
  {
   "cell_type": "code",
   "execution_count": 9,
   "metadata": {},
   "outputs": [],
   "source": [
    "from parameters import get_parameters\n",
    "\n",
    "VIDEO_LENGTH = ['1']\n",
    "VIDEO_FRAME = ['30']\n",
    "\n",
    "\n",
    "opt, _ = get_parameters()\n",
    "opt.num_workers = 8\n",
    "opt.batch_size = 8\n",
    "opt.gpu_num = 1\n",
    "\n",
    "opt.version = '123_1_10'\n",
    "opt.model = \"resnet\"\n",
    "opt.model_depth = 50\n",
    "opt.model_class_num = 1\n",
    "\n",
    "opt.version = opt.version + '_' + opt.model + '_depth' + str(opt.model_depth)\n",
    "\n",
    "opt.transfor_learning = True\n",
    "opt.pre_process_flag = True\n",
    "opt.part = 'head'\n",
    "\n",
    "DATA_PATH = opt.pose_data_path\n"
   ]
  },
  {
   "cell_type": "code",
   "execution_count": 10,
   "metadata": {},
   "outputs": [],
   "source": [
    "def get_best_ckpt(version:str, length: str, frame: str, fold: str):\n",
    "\n",
    "    ckpt_path = '/workspace/Pose_3DCNN_PyTorch/logs/resnet'\n",
    "    ckpt_path_list = os.listdir(ckpt_path)\n",
    "    ckpt_path_list.sort()\n",
    "\n",
    "    final_ckpt_list = [] \n",
    "\n",
    "    data = version.split('_')[0]\n",
    "\n",
    "    for i in ckpt_path_list:\n",
    "        if len(i) > 25:\n",
    "            final_ckpt_list.append(i)\n",
    "\n",
    "    final_ckpt_list.sort()\n",
    "    \n",
    "    for name in final_ckpt_list:\n",
    "        if length in name.split('_') and frame in name.split('_') and data in name.split('_') and opt.part in name.split('_'):\n",
    "            ckpt = name\n",
    "\n",
    "    ckpt = os.path.join(ckpt_path, ckpt, fold, 'checkpoints')\n",
    "    \n",
    "    Acc = 0.0\n",
    "\n",
    "    ckpt_list = os.listdir(ckpt)\n",
    "    ckpt_list.sort()\n",
    "    ckpt_list.remove('last.ckpt')\n",
    "\n",
    "    for num, l in enumerate(ckpt_list):\n",
    "        acc = l[-11:-5] # accuracy\n",
    "\n",
    "        if float(acc) > float(Acc):\n",
    "            Acc = acc\n",
    "            NUM = num\n",
    "\n",
    "    return os.path.join(ckpt, ckpt_list[NUM])\n",
    "\n",
    "# ckpt_path = get_best_ckpt(opt.version, '1', '10', 'fold0')\n"
   ]
  },
  {
   "cell_type": "code",
   "execution_count": 11,
   "metadata": {},
   "outputs": [],
   "source": [
    "def get_inference(test_data, model):\n",
    "        \n",
    "    pred_list = []\n",
    "    label_list = []\n",
    "\n",
    "    dict_of_loaders = test_data.loaders\n",
    "    test_dl1 = dict_of_loaders[opt.part]\n",
    "\n",
    "    for i, batch in enumerate(test_dl1):\n",
    "\n",
    "        # input and label\n",
    "        video = batch['video'].detach().cuda() # b, c, t, h, w\n",
    "\n",
    "        label = batch['label'].detach().cuda() # b, class_num\n",
    "\n",
    "        model.cuda().eval()\n",
    "\n",
    "        # pred the video frames\n",
    "        with torch.no_grad():\n",
    "            preds = model(video)\n",
    "\n",
    "        # when torch.size([1]), not squeeze.\n",
    "        if preds.size()[0] != 1 or len(preds.size()) != 1 :\n",
    "            preds = preds.squeeze(dim=-1)\n",
    "            preds_sigmoid = torch.sigmoid(preds)\n",
    "        else:\n",
    "            preds_sigmoid = torch.sigmoid(preds)\n",
    "\n",
    "        pred_list.append(preds_sigmoid.tolist())\n",
    "        label_list.append(label.tolist())\n",
    "\n",
    "        total_pred_list = []\n",
    "        total_label_list = []\n",
    "\n",
    "        for i in pred_list:\n",
    "            for number in i:\n",
    "                total_pred_list.append(number)\n",
    "\n",
    "        for i in label_list:\n",
    "            for number in i: \n",
    "                total_label_list.append(number)\n",
    "\n",
    "    pred = torch.tensor(total_pred_list)\n",
    "    label = torch.tensor(total_label_list)\n",
    "\n",
    "    return pred, label\n",
    "\n",
    "# pred_list, label_list = get_inference(test_data, model)"
   ]
  },
  {
   "cell_type": "code",
   "execution_count": 12,
   "metadata": {},
   "outputs": [
    {
     "name": "stdout",
     "output_type": "stream",
     "text": [
      "##################################################\n",
      "Strat fold0, 1 length, 30 frames\n",
      "the data path: /workspace/data/Pose_dataset_512/fold0\n",
      "ckpt: /workspace/Pose_3DCNN_PyTorch/logs/resnet/123_1_30_head_resnet_depth50/fold0/checkpoints/epoch=1-val_loss=1.50-val_acc=0.6693.ckpt\n"
     ]
    },
    {
     "name": "stderr",
     "output_type": "stream",
     "text": [
      "Using cache found in /root/.cache/torch/hub/facebookresearch_pytorchvideo_main\n",
      "Using cache found in /root/.cache/torch/hub/facebookresearch_pytorchvideo_main\n"
     ]
    },
    {
     "name": "stdout",
     "output_type": "stream",
     "text": [
      "##################################################\n",
      "run pre process model!\n",
      "##################################################\n",
      "##################################################\n",
      "load path: /workspace/data/Pose_dataset_512/fold0/head/train\n",
      "##################################################\n",
      "##################################################\n",
      "load path: /workspace/data/Pose_dataset_512/fold0/head/val\n",
      "##################################################\n",
      "##################################################\n",
      "load path: /workspace/data/Pose_dataset_512/fold0/head/val\n",
      "##################################################\n",
      "##################################################\n",
      "Strat fold1, 1 length, 30 frames\n",
      "the data path: /workspace/data/Pose_dataset_512/fold1\n",
      "ckpt: /workspace/Pose_3DCNN_PyTorch/logs/resnet/123_1_30_head_resnet_depth50/fold1/checkpoints/epoch=11-val_loss=1.24-val_acc=0.6328.ckpt\n"
     ]
    },
    {
     "name": "stderr",
     "output_type": "stream",
     "text": [
      "Using cache found in /root/.cache/torch/hub/facebookresearch_pytorchvideo_main\n",
      "Using cache found in /root/.cache/torch/hub/facebookresearch_pytorchvideo_main\n"
     ]
    },
    {
     "name": "stdout",
     "output_type": "stream",
     "text": [
      "##################################################\n",
      "run pre process model!\n",
      "##################################################\n",
      "##################################################\n",
      "load path: /workspace/data/Pose_dataset_512/fold1/head/train\n",
      "##################################################\n",
      "##################################################\n",
      "load path: /workspace/data/Pose_dataset_512/fold1/head/val\n",
      "##################################################\n",
      "##################################################\n",
      "load path: /workspace/data/Pose_dataset_512/fold1/head/val\n",
      "##################################################\n",
      "##################################################\n",
      "Strat fold2, 1 length, 30 frames\n",
      "the data path: /workspace/data/Pose_dataset_512/fold2\n",
      "ckpt: /workspace/Pose_3DCNN_PyTorch/logs/resnet/123_1_30_head_resnet_depth50/fold2/checkpoints/epoch=10-val_loss=0.39-val_acc=0.8880.ckpt\n"
     ]
    },
    {
     "name": "stderr",
     "output_type": "stream",
     "text": [
      "Using cache found in /root/.cache/torch/hub/facebookresearch_pytorchvideo_main\n",
      "Using cache found in /root/.cache/torch/hub/facebookresearch_pytorchvideo_main\n"
     ]
    },
    {
     "name": "stdout",
     "output_type": "stream",
     "text": [
      "##################################################\n",
      "run pre process model!\n",
      "##################################################\n",
      "##################################################\n",
      "load path: /workspace/data/Pose_dataset_512/fold2/head/train\n",
      "##################################################\n",
      "##################################################\n",
      "load path: /workspace/data/Pose_dataset_512/fold2/head/val\n",
      "##################################################\n",
      "##################################################\n",
      "load path: /workspace/data/Pose_dataset_512/fold2/head/val\n",
      "##################################################\n",
      "##################################################\n",
      "Strat fold3, 1 length, 30 frames\n",
      "the data path: /workspace/data/Pose_dataset_512/fold3\n",
      "ckpt: /workspace/Pose_3DCNN_PyTorch/logs/resnet/123_1_30_head_resnet_depth50/fold3/checkpoints/epoch=3-val_loss=0.66-val_acc=0.7214.ckpt\n"
     ]
    },
    {
     "name": "stderr",
     "output_type": "stream",
     "text": [
      "Using cache found in /root/.cache/torch/hub/facebookresearch_pytorchvideo_main\n",
      "Using cache found in /root/.cache/torch/hub/facebookresearch_pytorchvideo_main\n"
     ]
    },
    {
     "name": "stdout",
     "output_type": "stream",
     "text": [
      "##################################################\n",
      "run pre process model!\n",
      "##################################################\n",
      "##################################################\n",
      "load path: /workspace/data/Pose_dataset_512/fold3/head/train\n",
      "##################################################\n",
      "##################################################\n",
      "load path: /workspace/data/Pose_dataset_512/fold3/head/val\n",
      "##################################################\n",
      "##################################################\n",
      "load path: /workspace/data/Pose_dataset_512/fold3/head/val\n",
      "##################################################\n",
      "##################################################\n",
      "Strat fold4, 1 length, 30 frames\n",
      "the data path: /workspace/data/Pose_dataset_512/fold4\n",
      "ckpt: /workspace/Pose_3DCNN_PyTorch/logs/resnet/123_1_30_head_resnet_depth50/fold4/checkpoints/epoch=8-val_loss=2.30-val_acc=0.5703.ckpt\n"
     ]
    },
    {
     "name": "stderr",
     "output_type": "stream",
     "text": [
      "Using cache found in /root/.cache/torch/hub/facebookresearch_pytorchvideo_main\n",
      "Using cache found in /root/.cache/torch/hub/facebookresearch_pytorchvideo_main\n"
     ]
    },
    {
     "name": "stdout",
     "output_type": "stream",
     "text": [
      "##################################################\n",
      "run pre process model!\n",
      "##################################################\n",
      "##################################################\n",
      "load path: /workspace/data/Pose_dataset_512/fold4/head/train\n",
      "##################################################\n",
      "##################################################\n",
      "load path: /workspace/data/Pose_dataset_512/fold4/head/val\n",
      "##################################################\n",
      "##################################################\n",
      "load path: /workspace/data/Pose_dataset_512/fold4/head/val\n",
      "##################################################\n",
      "****************************************************************************************************\n",
      "the result of 1s 30frame:\n",
      "accuracy: tensor(0.6932)\n",
      "precision: tensor(0.6962)\n",
      "_binary_recall: tensor(0.6118)\n",
      "_binary_f1: tensor(0.6513)\n",
      "_aurroc: tensor(0.7067)\n",
      "_confusion_matrix: tensor([[781, 240],\n",
      "        [349, 550]])\n",
      "##################################################\n"
     ]
    }
   ],
   "source": [
    "fold_num = os.listdir(DATA_PATH)\n",
    "fold_num.sort()\n",
    "fold_num.remove('raw')\n",
    "\n",
    "symbol = '_'\n",
    "\n",
    "for length in VIDEO_LENGTH:\n",
    "\n",
    "    for frame in VIDEO_FRAME:\n",
    "\n",
    "        one_condition_pred_list = []\n",
    "        one_condition_label_list = []\n",
    "\n",
    "        total_pred_list = []\n",
    "        total_label_list = []\n",
    "\n",
    "        for fold in fold_num:\n",
    "\n",
    "            opt.train_path = os.path.join(DATA_PATH, fold)\n",
    "\n",
    "            #################\n",
    "            # start k Fold CV\n",
    "            #################\n",
    "            \n",
    "            opt.clip_duration = int(length)\n",
    "            opt.uniform_temporal_subsample_num = int(frame)\n",
    "           \n",
    "            ckpt_path = get_best_ckpt(opt.version, length, frame, fold)\n",
    "\n",
    "            print('#' * 50)\n",
    "            print('Strat %s, %s length, %s frames' % (fold, length, frame))\n",
    "            print('the data path: %s' % opt.train_path)\n",
    "            print('ckpt: %s' % ckpt_path)\n",
    "            model = WalkVideoClassificationLightningModule(opt).load_from_checkpoint(ckpt_path)\n",
    "\n",
    "            data_module = WalkDataModule(opt)\n",
    "            data_module.setup()\n",
    "            test_data = data_module.val_dataloader()\n",
    "\n",
    "            pred_list, label_list = get_inference(test_data, model)\n",
    "\n",
    "            one_condition_pred_list.append(pred_list)\n",
    "\n",
    "            one_condition_label_list.append(label_list)\n",
    "\n",
    "        # total 5 fold pred and label\n",
    "        for i in one_condition_pred_list:\n",
    "            for number in i:\n",
    "                total_pred_list.append(number)\n",
    "\n",
    "        for i in one_condition_label_list:\n",
    "            for number in i: \n",
    "                total_label_list.append(number)\n",
    "\n",
    "        pred = torch.tensor(total_pred_list)    \n",
    "        label = torch.tensor(total_label_list)\n",
    "\n",
    "        print('*' * 100)\n",
    "        print('the result of %ss %sframe:' % (length, frame))\n",
    "        print('accuracy: %s' % _accuracy(pred, label))\n",
    "        print('precision: %s' % _precision(pred, label))\n",
    "        print('_binary_recall: %s' % _binary_recall(pred, label))\n",
    "        print('_binary_f1: %s' % _binary_f1(pred, label))\n",
    "        print('_aurroc: %s' % _aucroc(pred, label))\n",
    "        print('_confusion_matrix: %s' % _confusion_matrix(pred, label))\n",
    "        print('#' * 50)\n"
   ]
  },
  {
   "cell_type": "code",
   "execution_count": null,
   "metadata": {},
   "outputs": [],
   "source": [
    "fold = 'fold0'\n",
    "length = '1'\n",
    "frame = '10'\n",
    "\n",
    "\n",
    "opt.clip_duration = int(length)\n",
    "opt.uniform_temporal_subsample_num = int(frame)\n",
    "opt.train_path = os.path.join(DATA_PATH, fold)\n",
    "opt.version = '119_1_10'\n",
    "\n",
    "ckpt_path = get_best_ckpt(opt.version, length, frame, fold)\n",
    "\n",
    "print('#' * 50)\n",
    "print('Strat %s, %s length, %s frames' % (fold, length, frame))\n",
    "print('the data path: %s' % opt.train_path)\n",
    "print('ckpt: %s' % ckpt_path)\n",
    "model = WalkVideoClassificationLightningModule(opt).load_from_checkpoint(ckpt_path)\n",
    "\n",
    "data_module = WalkDataModule(opt)\n",
    "data_module.setup()\n",
    "test_data = data_module.val_dataloader()\n",
    "\n",
    "pred, label = get_inference(test_data, model)\n",
    "\n",
    "print('accuracy: %s' % _accuracy(pred, label))\n",
    "print('precision: %s' % _precision(pred, label))\n",
    "print('_binary_recall: %s' % _binary_recall(pred, label))\n",
    "print('_confusion_matrix: %s' % _confusion_matrix(pred, label))\n",
    "print('#' * 50)"
   ]
  },
  {
   "cell_type": "code",
   "execution_count": 15,
   "metadata": {},
   "outputs": [
    {
     "data": {
      "image/png": "[encoded data removed]",
      "text/plain": [
       "<Figure size 640x480 with 2 Axes>"
      ]
     },
     "metadata": {},
     "output_type": "display_data"
    }
   ],
   "source": [
    "import seaborn as sns\n",
    "import matplotlib.pyplot as plt\n",
    "\n",
    "cm = _confusion_matrix(pred, label)\n",
    "\n",
    "ax = sns.heatmap(cm, annot=True, fmt=\"3d\")\n",
    "\n",
    "ax.set_title('confusion matrix')\n",
    "ax.set(xlabel=\"pred class\", ylabel=\"ground truth\")\n",
    "ax.xaxis.tick_top()\n",
    "plt.show()\n",
    "# plt.savefig('test.png')\n"
   ]
  },
  {
   "cell_type": "code",
   "execution_count": 17,
   "metadata": {},
   "outputs": [
    {
     "data": {
      "image/png": "[encoded data removed]",
      "text/plain": [
       "<Figure size 640x480 with 1 Axes>"
      ]
     },
     "metadata": {},
     "output_type": "display_data"
    }
   ],
   "source": [
    "from sklearn.metrics import roc_curve\n",
    "from sklearn.metrics import RocCurveDisplay\n",
    "\n",
    "\n",
    "fpr, tpr, _ = roc_curve(label, pred, pos_label=1)\n",
    "roc_display = RocCurveDisplay(fpr=fpr, tpr=tpr).plot()"
   ]
  },
  {
   "cell_type": "code",
   "execution_count": 9,
   "metadata": {},
   "outputs": [
    {
     "data": {
      "image/png": "[encoded data removed]",
      "text/plain": [
       "<Figure size 640x480 with 1 Axes>"
      ]
     },
     "metadata": {},
     "output_type": "display_data"
    }
   ],
   "source": [
    "metric = torchmetrics.classification.BinaryROC(thresholds=None)\n",
    "fpr, tpr, thd = metric(pred, label)\n",
    "roc_display = RocCurveDisplay(fpr=fpr, tpr=tpr).plot()"
   ]
  },
  {
   "cell_type": "code",
   "execution_count": null,
   "metadata": {},
   "outputs": [],
   "source": [
    "from sklearn.metrics import precision_recall_curve\n",
    "from sklearn.metrics import PrecisionRecallDisplay\n",
    "\n",
    "prec, recall, _ = precision_recall_curve(label, pred, pos_label=1)\n",
    "pr_display = PrecisionRecallDisplay(precision=prec, recall=recall).plot()"
   ]
  },
  {
   "cell_type": "code",
   "execution_count": null,
   "metadata": {},
   "outputs": [],
   "source": [
    "metric = torchmetrics.classification.BinaryPrecisionRecallCurve(thresholds=None)\n",
    "prec, recall, threshodls = metric(pred, label)\n",
    "pr_display = PrecisionRecallDisplay(precision=prec, recall=recall).plot()"
   ]
  },
  {
   "cell_type": "code",
   "execution_count": null,
   "metadata": {},
   "outputs": [],
   "source": [
    "import matplotlib.pyplot as plt\n",
    "\n",
    "fig, (ax1, ax2) = plt.subplots(1, 2, figsize=(12, 8))\n",
    "\n",
    "roc_display.plot(ax=ax1)\n",
    "pr_display.plot(ax=ax2)\n",
    "plt.show()"
   ]
  },
  {
   "cell_type": "code",
   "execution_count": null,
   "metadata": {},
   "outputs": [],
   "source": [
    "# difference between 10f and 30f\n",
    "\n",
    "length = '1'\n",
    "frame = '30'\n",
    "opt.clip_duration = int(length)\n",
    "opt.uniform_temporal_subsample_num = int(frame)\n",
    "\n",
    "\n",
    "data_module = WalkDataModule(opt)\n",
    "data_module.setup()\n",
    "val_data = data_module.val_dataloader()\n",
    "\n",
    "dict_of_loaders = val_data.loaders\n",
    "test_dl1 = dict_of_loaders['body']\n",
    "\n",
    "batch = next(iter(test_dl1))\n",
    "\n",
    "from torchvision.io.video import write_video\n",
    "\n",
    "write_video('_'.join([length, frame])+'.mp4', batch['video'][0].permute(1,2,3,0), fps=30)"
   ]
  }
 ],
 "metadata": {
  "kernelspec": {
   "display_name": "Python 3.7.15 ('base')",
   "language": "python",
   "name": "python3"
  },
  "language_info": {
   "codemirror_mode": {
    "name": "ipython",
    "version": 3
   },
   "file_extension": ".py",
   "mimetype": "text/x-python",
   "name": "python",
   "nbconvert_exporter": "python",
   "pygments_lexer": "ipython3",
   "version": "3.7.15"
  },
  "orig_nbformat": 4,
  "vscode": {
   "interpreter": {
    "hash": "d4d1e4263499bec80672ea0156c357c1ee493ec2b1c70f0acce89fc37c4a6abe"
   }
  }
 },
 "nbformat": 4,
 "nbformat_minor": 2
}
